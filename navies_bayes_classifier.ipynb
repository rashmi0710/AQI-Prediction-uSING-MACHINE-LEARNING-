{
 "cells": [
  {
   "cell_type": "markdown",
   "id": "efaf3885",
   "metadata": {},
   "source": [
    "# Naive Baye:"
   ]
  },
  {
   "cell_type": "code",
   "execution_count": 1,
   "id": "7e6736d4",
   "metadata": {},
   "outputs": [],
   "source": [
    "import numpy as np\n",
    "import matplotlib.pyplot as plt\n",
    "import pandas as pd"
   ]
  },
  {
   "cell_type": "code",
   "execution_count": 2,
   "id": "88e0d3d3",
   "metadata": {},
   "outputs": [
    {
     "data": {
      "text/html": [
       "<div>\n",
       "<style scoped>\n",
       "    .dataframe tbody tr th:only-of-type {\n",
       "        vertical-align: middle;\n",
       "    }\n",
       "\n",
       "    .dataframe tbody tr th {\n",
       "        vertical-align: top;\n",
       "    }\n",
       "\n",
       "    .dataframe thead th {\n",
       "        text-align: right;\n",
       "    }\n",
       "</style>\n",
       "<table border=\"1\" class=\"dataframe\">\n",
       "  <thead>\n",
       "    <tr style=\"text-align: right;\">\n",
       "      <th></th>\n",
       "      <th>NH3</th>\n",
       "      <th>PM2</th>\n",
       "      <th>PM10</th>\n",
       "      <th>SO2</th>\n",
       "      <th>NOx</th>\n",
       "      <th>CO</th>\n",
       "      <th>O3</th>\n",
       "      <th>AQI</th>\n",
       "      <th>AQI_bucket</th>\n",
       "    </tr>\n",
       "  </thead>\n",
       "  <tbody>\n",
       "    <tr>\n",
       "      <th>0</th>\n",
       "      <td>71.92</td>\n",
       "      <td>327.50</td>\n",
       "      <td>501.99</td>\n",
       "      <td>20.23</td>\n",
       "      <td>141.46</td>\n",
       "      <td>3.35</td>\n",
       "      <td>17.66</td>\n",
       "      <td>490</td>\n",
       "      <td>Severe</td>\n",
       "    </tr>\n",
       "    <tr>\n",
       "      <th>1</th>\n",
       "      <td>78.02</td>\n",
       "      <td>387.45</td>\n",
       "      <td>569.04</td>\n",
       "      <td>21.29</td>\n",
       "      <td>176.59</td>\n",
       "      <td>4.06</td>\n",
       "      <td>9.32</td>\n",
       "      <td>574</td>\n",
       "      <td>Severe</td>\n",
       "    </tr>\n",
       "    <tr>\n",
       "      <th>2</th>\n",
       "      <td>74.85</td>\n",
       "      <td>399.51</td>\n",
       "      <td>527.45</td>\n",
       "      <td>18.03</td>\n",
       "      <td>133.11</td>\n",
       "      <td>3.52</td>\n",
       "      <td>21.91</td>\n",
       "      <td>522</td>\n",
       "      <td>Severe</td>\n",
       "    </tr>\n",
       "    <tr>\n",
       "      <th>3</th>\n",
       "      <td>66.06</td>\n",
       "      <td>313.46</td>\n",
       "      <td>428.54</td>\n",
       "      <td>19.64</td>\n",
       "      <td>91.64</td>\n",
       "      <td>1.89</td>\n",
       "      <td>8.96</td>\n",
       "      <td>449</td>\n",
       "      <td>Severe</td>\n",
       "    </tr>\n",
       "    <tr>\n",
       "      <th>4</th>\n",
       "      <td>64.06</td>\n",
       "      <td>251.39</td>\n",
       "      <td>351.39</td>\n",
       "      <td>18.55</td>\n",
       "      <td>63.92</td>\n",
       "      <td>2.23</td>\n",
       "      <td>6.42</td>\n",
       "      <td>401</td>\n",
       "      <td>Severe</td>\n",
       "    </tr>\n",
       "    <tr>\n",
       "      <th>...</th>\n",
       "      <td>...</td>\n",
       "      <td>...</td>\n",
       "      <td>...</td>\n",
       "      <td>...</td>\n",
       "      <td>...</td>\n",
       "      <td>...</td>\n",
       "      <td>...</td>\n",
       "      <td>...</td>\n",
       "      <td>...</td>\n",
       "    </tr>\n",
       "    <tr>\n",
       "      <th>3809</th>\n",
       "      <td>55.93</td>\n",
       "      <td>44.41</td>\n",
       "      <td>96.75</td>\n",
       "      <td>8.57</td>\n",
       "      <td>77.94</td>\n",
       "      <td>0.72</td>\n",
       "      <td>7.31</td>\n",
       "      <td>97</td>\n",
       "      <td>Satisfactory</td>\n",
       "    </tr>\n",
       "    <tr>\n",
       "      <th>3810</th>\n",
       "      <td>61.08</td>\n",
       "      <td>47.80</td>\n",
       "      <td>104.82</td>\n",
       "      <td>8.93</td>\n",
       "      <td>82.73</td>\n",
       "      <td>0.78</td>\n",
       "      <td>6.69</td>\n",
       "      <td>103</td>\n",
       "      <td>Moderate</td>\n",
       "    </tr>\n",
       "    <tr>\n",
       "      <th>3811</th>\n",
       "      <td>65.68</td>\n",
       "      <td>74.36</td>\n",
       "      <td>165.26</td>\n",
       "      <td>9.92</td>\n",
       "      <td>89.22</td>\n",
       "      <td>1.01</td>\n",
       "      <td>5.61</td>\n",
       "      <td>148</td>\n",
       "      <td>Moderate</td>\n",
       "    </tr>\n",
       "    <tr>\n",
       "      <th>3812</th>\n",
       "      <td>129.75</td>\n",
       "      <td>166.03</td>\n",
       "      <td>317.93</td>\n",
       "      <td>16.01</td>\n",
       "      <td>157.82</td>\n",
       "      <td>1.17</td>\n",
       "      <td>5.79</td>\n",
       "      <td>335</td>\n",
       "      <td>Very Poor</td>\n",
       "    </tr>\n",
       "    <tr>\n",
       "      <th>3813</th>\n",
       "      <td>95.88</td>\n",
       "      <td>139.99</td>\n",
       "      <td>302.08</td>\n",
       "      <td>19.60</td>\n",
       "      <td>121.95</td>\n",
       "      <td>0.89</td>\n",
       "      <td>4.15</td>\n",
       "      <td>315</td>\n",
       "      <td>Very Poor</td>\n",
       "    </tr>\n",
       "  </tbody>\n",
       "</table>\n",
       "<p>3814 rows × 9 columns</p>\n",
       "</div>"
      ],
      "text/plain": [
       "         NH3     PM2    PM10    SO2     NOx    CO     O3  AQI    AQI_bucket\n",
       "0      71.92  327.50  501.99  20.23  141.46  3.35  17.66  490        Severe\n",
       "1      78.02  387.45  569.04  21.29  176.59  4.06   9.32  574        Severe\n",
       "2      74.85  399.51  527.45  18.03  133.11  3.52  21.91  522        Severe\n",
       "3      66.06  313.46  428.54  19.64   91.64  1.89   8.96  449        Severe\n",
       "4      64.06  251.39  351.39  18.55   63.92  2.23   6.42  401        Severe\n",
       "...      ...     ...     ...    ...     ...   ...    ...  ...           ...\n",
       "3809   55.93   44.41   96.75   8.57   77.94  0.72   7.31   97  Satisfactory\n",
       "3810   61.08   47.80  104.82   8.93   82.73  0.78   6.69  103      Moderate\n",
       "3811   65.68   74.36  165.26   9.92   89.22  1.01   5.61  148      Moderate\n",
       "3812  129.75  166.03  317.93  16.01  157.82  1.17   5.79  335     Very Poor\n",
       "3813   95.88  139.99  302.08  19.60  121.95  0.89   4.15  315     Very Poor\n",
       "\n",
       "[3814 rows x 9 columns]"
      ]
     },
     "execution_count": 2,
     "metadata": {},
     "output_type": "execute_result"
    }
   ],
   "source": [
    "df = pd.read_csv(\"C:\\\\Users\\\\AMAN DONGRE\\\\Downloads\\\\tes.csv\") \n",
    "df"
   ]
  },
  {
   "cell_type": "code",
   "execution_count": 3,
   "id": "7bae6f83",
   "metadata": {},
   "outputs": [
    {
     "data": {
      "text/html": [
       "<div>\n",
       "<style scoped>\n",
       "    .dataframe tbody tr th:only-of-type {\n",
       "        vertical-align: middle;\n",
       "    }\n",
       "\n",
       "    .dataframe tbody tr th {\n",
       "        vertical-align: top;\n",
       "    }\n",
       "\n",
       "    .dataframe thead th {\n",
       "        text-align: right;\n",
       "    }\n",
       "</style>\n",
       "<table border=\"1\" class=\"dataframe\">\n",
       "  <thead>\n",
       "    <tr style=\"text-align: right;\">\n",
       "      <th></th>\n",
       "      <th>NH3</th>\n",
       "      <th>PM2</th>\n",
       "      <th>PM10</th>\n",
       "      <th>SO2</th>\n",
       "      <th>NOx</th>\n",
       "      <th>CO</th>\n",
       "      <th>O3</th>\n",
       "      <th>AQI</th>\n",
       "    </tr>\n",
       "  </thead>\n",
       "  <tbody>\n",
       "    <tr>\n",
       "      <th>0</th>\n",
       "      <td>71.92</td>\n",
       "      <td>327.50</td>\n",
       "      <td>501.99</td>\n",
       "      <td>20.23</td>\n",
       "      <td>141.46</td>\n",
       "      <td>3.35</td>\n",
       "      <td>17.66</td>\n",
       "      <td>490</td>\n",
       "    </tr>\n",
       "    <tr>\n",
       "      <th>1</th>\n",
       "      <td>78.02</td>\n",
       "      <td>387.45</td>\n",
       "      <td>569.04</td>\n",
       "      <td>21.29</td>\n",
       "      <td>176.59</td>\n",
       "      <td>4.06</td>\n",
       "      <td>9.32</td>\n",
       "      <td>574</td>\n",
       "    </tr>\n",
       "    <tr>\n",
       "      <th>2</th>\n",
       "      <td>74.85</td>\n",
       "      <td>399.51</td>\n",
       "      <td>527.45</td>\n",
       "      <td>18.03</td>\n",
       "      <td>133.11</td>\n",
       "      <td>3.52</td>\n",
       "      <td>21.91</td>\n",
       "      <td>522</td>\n",
       "    </tr>\n",
       "    <tr>\n",
       "      <th>3</th>\n",
       "      <td>66.06</td>\n",
       "      <td>313.46</td>\n",
       "      <td>428.54</td>\n",
       "      <td>19.64</td>\n",
       "      <td>91.64</td>\n",
       "      <td>1.89</td>\n",
       "      <td>8.96</td>\n",
       "      <td>449</td>\n",
       "    </tr>\n",
       "    <tr>\n",
       "      <th>4</th>\n",
       "      <td>64.06</td>\n",
       "      <td>251.39</td>\n",
       "      <td>351.39</td>\n",
       "      <td>18.55</td>\n",
       "      <td>63.92</td>\n",
       "      <td>2.23</td>\n",
       "      <td>6.42</td>\n",
       "      <td>401</td>\n",
       "    </tr>\n",
       "    <tr>\n",
       "      <th>...</th>\n",
       "      <td>...</td>\n",
       "      <td>...</td>\n",
       "      <td>...</td>\n",
       "      <td>...</td>\n",
       "      <td>...</td>\n",
       "      <td>...</td>\n",
       "      <td>...</td>\n",
       "      <td>...</td>\n",
       "    </tr>\n",
       "    <tr>\n",
       "      <th>3809</th>\n",
       "      <td>55.93</td>\n",
       "      <td>44.41</td>\n",
       "      <td>96.75</td>\n",
       "      <td>8.57</td>\n",
       "      <td>77.94</td>\n",
       "      <td>0.72</td>\n",
       "      <td>7.31</td>\n",
       "      <td>97</td>\n",
       "    </tr>\n",
       "    <tr>\n",
       "      <th>3810</th>\n",
       "      <td>61.08</td>\n",
       "      <td>47.80</td>\n",
       "      <td>104.82</td>\n",
       "      <td>8.93</td>\n",
       "      <td>82.73</td>\n",
       "      <td>0.78</td>\n",
       "      <td>6.69</td>\n",
       "      <td>103</td>\n",
       "    </tr>\n",
       "    <tr>\n",
       "      <th>3811</th>\n",
       "      <td>65.68</td>\n",
       "      <td>74.36</td>\n",
       "      <td>165.26</td>\n",
       "      <td>9.92</td>\n",
       "      <td>89.22</td>\n",
       "      <td>1.01</td>\n",
       "      <td>5.61</td>\n",
       "      <td>148</td>\n",
       "    </tr>\n",
       "    <tr>\n",
       "      <th>3812</th>\n",
       "      <td>129.75</td>\n",
       "      <td>166.03</td>\n",
       "      <td>317.93</td>\n",
       "      <td>16.01</td>\n",
       "      <td>157.82</td>\n",
       "      <td>1.17</td>\n",
       "      <td>5.79</td>\n",
       "      <td>335</td>\n",
       "    </tr>\n",
       "    <tr>\n",
       "      <th>3813</th>\n",
       "      <td>95.88</td>\n",
       "      <td>139.99</td>\n",
       "      <td>302.08</td>\n",
       "      <td>19.60</td>\n",
       "      <td>121.95</td>\n",
       "      <td>0.89</td>\n",
       "      <td>4.15</td>\n",
       "      <td>315</td>\n",
       "    </tr>\n",
       "  </tbody>\n",
       "</table>\n",
       "<p>3814 rows × 8 columns</p>\n",
       "</div>"
      ],
      "text/plain": [
       "         NH3     PM2    PM10    SO2     NOx    CO     O3  AQI\n",
       "0      71.92  327.50  501.99  20.23  141.46  3.35  17.66  490\n",
       "1      78.02  387.45  569.04  21.29  176.59  4.06   9.32  574\n",
       "2      74.85  399.51  527.45  18.03  133.11  3.52  21.91  522\n",
       "3      66.06  313.46  428.54  19.64   91.64  1.89   8.96  449\n",
       "4      64.06  251.39  351.39  18.55   63.92  2.23   6.42  401\n",
       "...      ...     ...     ...    ...     ...   ...    ...  ...\n",
       "3809   55.93   44.41   96.75   8.57   77.94  0.72   7.31   97\n",
       "3810   61.08   47.80  104.82   8.93   82.73  0.78   6.69  103\n",
       "3811   65.68   74.36  165.26   9.92   89.22  1.01   5.61  148\n",
       "3812  129.75  166.03  317.93  16.01  157.82  1.17   5.79  335\n",
       "3813   95.88  139.99  302.08  19.60  121.95  0.89   4.15  315\n",
       "\n",
       "[3814 rows x 8 columns]"
      ]
     },
     "execution_count": 3,
     "metadata": {},
     "output_type": "execute_result"
    }
   ],
   "source": [
    "inputs = df.drop('AQI_bucket',axis='columns')\n",
    "target = df.AQI_bucket\n",
    "inputs"
   ]
  },
  {
   "cell_type": "code",
   "execution_count": 4,
   "id": "c632827e",
   "metadata": {},
   "outputs": [],
   "source": [
    "from sklearn.model_selection import train_test_split\n",
    "X_train, X_test, y_train, y_test = train_test_split(inputs,target,test_size=0.3)"
   ]
  },
  {
   "cell_type": "code",
   "execution_count": 5,
   "id": "c98f4662",
   "metadata": {},
   "outputs": [],
   "source": [
    "from sklearn.naive_bayes import GaussianNB\n",
    "model = GaussianNB()"
   ]
  },
  {
   "cell_type": "code",
   "execution_count": 6,
   "id": "cdca2438",
   "metadata": {},
   "outputs": [
    {
     "data": {
      "text/plain": [
       "GaussianNB()"
      ]
     },
     "execution_count": 6,
     "metadata": {},
     "output_type": "execute_result"
    }
   ],
   "source": [
    "model.fit(X_train,y_train)"
   ]
  },
  {
   "cell_type": "code",
   "execution_count": 7,
   "id": "733322a0",
   "metadata": {},
   "outputs": [
    {
     "data": {
      "text/plain": [
       "0.880349344978166"
      ]
     },
     "execution_count": 7,
     "metadata": {},
     "output_type": "execute_result"
    }
   ],
   "source": [
    "model.score(X_test,y_test)"
   ]
  },
  {
   "cell_type": "code",
   "execution_count": 8,
   "id": "6722e557",
   "metadata": {},
   "outputs": [
    {
     "data": {
      "text/html": [
       "<div>\n",
       "<style scoped>\n",
       "    .dataframe tbody tr th:only-of-type {\n",
       "        vertical-align: middle;\n",
       "    }\n",
       "\n",
       "    .dataframe tbody tr th {\n",
       "        vertical-align: top;\n",
       "    }\n",
       "\n",
       "    .dataframe thead th {\n",
       "        text-align: right;\n",
       "    }\n",
       "</style>\n",
       "<table border=\"1\" class=\"dataframe\">\n",
       "  <thead>\n",
       "    <tr style=\"text-align: right;\">\n",
       "      <th></th>\n",
       "      <th>NH3</th>\n",
       "      <th>PM2</th>\n",
       "      <th>PM10</th>\n",
       "      <th>SO2</th>\n",
       "      <th>NOx</th>\n",
       "      <th>CO</th>\n",
       "      <th>O3</th>\n",
       "      <th>AQI</th>\n",
       "    </tr>\n",
       "  </thead>\n",
       "  <tbody>\n",
       "    <tr>\n",
       "      <th>3718</th>\n",
       "      <td>55.18</td>\n",
       "      <td>100.080000</td>\n",
       "      <td>260.55</td>\n",
       "      <td>34.05</td>\n",
       "      <td>67.530000</td>\n",
       "      <td>0.75</td>\n",
       "      <td>3.82</td>\n",
       "      <td>234</td>\n",
       "    </tr>\n",
       "    <tr>\n",
       "      <th>2062</th>\n",
       "      <td>82.67</td>\n",
       "      <td>272.450000</td>\n",
       "      <td>28.19</td>\n",
       "      <td>11.99</td>\n",
       "      <td>88.920000</td>\n",
       "      <td>0.86</td>\n",
       "      <td>12.83</td>\n",
       "      <td>417</td>\n",
       "    </tr>\n",
       "    <tr>\n",
       "      <th>1790</th>\n",
       "      <td>52.43</td>\n",
       "      <td>229.680321</td>\n",
       "      <td>21.85</td>\n",
       "      <td>4.82</td>\n",
       "      <td>52.920642</td>\n",
       "      <td>0.17</td>\n",
       "      <td>20.55</td>\n",
       "      <td>384</td>\n",
       "    </tr>\n",
       "    <tr>\n",
       "      <th>2061</th>\n",
       "      <td>80.20</td>\n",
       "      <td>221.560000</td>\n",
       "      <td>26.97</td>\n",
       "      <td>10.60</td>\n",
       "      <td>98.620000</td>\n",
       "      <td>0.72</td>\n",
       "      <td>14.05</td>\n",
       "      <td>378</td>\n",
       "    </tr>\n",
       "    <tr>\n",
       "      <th>1345</th>\n",
       "      <td>122.89</td>\n",
       "      <td>229.680321</td>\n",
       "      <td>23.93</td>\n",
       "      <td>14.83</td>\n",
       "      <td>52.920642</td>\n",
       "      <td>0.97</td>\n",
       "      <td>4.06</td>\n",
       "      <td>384</td>\n",
       "    </tr>\n",
       "    <tr>\n",
       "      <th>1404</th>\n",
       "      <td>287.45</td>\n",
       "      <td>229.680321</td>\n",
       "      <td>19.82</td>\n",
       "      <td>4.86</td>\n",
       "      <td>52.920642</td>\n",
       "      <td>0.62</td>\n",
       "      <td>24.74</td>\n",
       "      <td>384</td>\n",
       "    </tr>\n",
       "    <tr>\n",
       "      <th>3663</th>\n",
       "      <td>103.32</td>\n",
       "      <td>111.170000</td>\n",
       "      <td>225.59</td>\n",
       "      <td>16.09</td>\n",
       "      <td>117.560000</td>\n",
       "      <td>1.13</td>\n",
       "      <td>4.35</td>\n",
       "      <td>271</td>\n",
       "    </tr>\n",
       "    <tr>\n",
       "      <th>2553</th>\n",
       "      <td>14.56</td>\n",
       "      <td>209.140000</td>\n",
       "      <td>379.54</td>\n",
       "      <td>30.04</td>\n",
       "      <td>57.830000</td>\n",
       "      <td>0.90</td>\n",
       "      <td>2.67</td>\n",
       "      <td>369</td>\n",
       "    </tr>\n",
       "    <tr>\n",
       "      <th>2530</th>\n",
       "      <td>85.54</td>\n",
       "      <td>224.950000</td>\n",
       "      <td>18.02</td>\n",
       "      <td>8.57</td>\n",
       "      <td>27.510000</td>\n",
       "      <td>0.76</td>\n",
       "      <td>13.09</td>\n",
       "      <td>381</td>\n",
       "    </tr>\n",
       "    <tr>\n",
       "      <th>232</th>\n",
       "      <td>28.93</td>\n",
       "      <td>49.330000</td>\n",
       "      <td>164.39</td>\n",
       "      <td>3.15</td>\n",
       "      <td>28.420000</td>\n",
       "      <td>0.89</td>\n",
       "      <td>19.79</td>\n",
       "      <td>143</td>\n",
       "    </tr>\n",
       "  </tbody>\n",
       "</table>\n",
       "</div>"
      ],
      "text/plain": [
       "         NH3         PM2    PM10    SO2         NOx    CO     O3  AQI\n",
       "3718   55.18  100.080000  260.55  34.05   67.530000  0.75   3.82  234\n",
       "2062   82.67  272.450000   28.19  11.99   88.920000  0.86  12.83  417\n",
       "1790   52.43  229.680321   21.85   4.82   52.920642  0.17  20.55  384\n",
       "2061   80.20  221.560000   26.97  10.60   98.620000  0.72  14.05  378\n",
       "1345  122.89  229.680321   23.93  14.83   52.920642  0.97   4.06  384\n",
       "1404  287.45  229.680321   19.82   4.86   52.920642  0.62  24.74  384\n",
       "3663  103.32  111.170000  225.59  16.09  117.560000  1.13   4.35  271\n",
       "2553   14.56  209.140000  379.54  30.04   57.830000  0.90   2.67  369\n",
       "2530   85.54  224.950000   18.02   8.57   27.510000  0.76  13.09  381\n",
       "232    28.93   49.330000  164.39   3.15   28.420000  0.89  19.79  143"
      ]
     },
     "execution_count": 8,
     "metadata": {},
     "output_type": "execute_result"
    }
   ],
   "source": [
    "X_test[0:10]"
   ]
  },
  {
   "cell_type": "code",
   "execution_count": 9,
   "id": "755624bb",
   "metadata": {},
   "outputs": [
    {
     "data": {
      "text/plain": [
       "array(['Poor', 'Very Poor', 'Very Poor', 'Very Poor', 'Very Poor',\n",
       "       'Very Poor', 'Poor', 'Very Poor', 'Very Poor', 'Moderate'],\n",
       "      dtype='<U12')"
      ]
     },
     "execution_count": 9,
     "metadata": {},
     "output_type": "execute_result"
    }
   ],
   "source": [
    "model.predict(X_test[0:10])"
   ]
  },
  {
   "cell_type": "code",
   "execution_count": 10,
   "id": "003ddbea",
   "metadata": {},
   "outputs": [
    {
     "data": {
      "text/plain": [
       "array([[0.00000000e+000, 1.58928102e-004, 9.99830715e-001,\n",
       "        1.12273968e-055, 7.10309932e-008, 1.02854931e-005],\n",
       "       [0.00000000e+000, 2.07511377e-054, 5.90349461e-031,\n",
       "        9.17373676e-245, 3.57914250e-001, 6.42085750e-001],\n",
       "       [0.00000000e+000, 1.84686645e-036, 4.29564247e-019,\n",
       "        1.67884550e-178, 7.06042049e-003, 9.92939580e-001],\n",
       "       [0.00000000e+000, 1.68340383e-035, 1.57493135e-017,\n",
       "        3.00832587e-177, 6.70464532e-003, 9.93295355e-001],\n",
       "       [0.00000000e+000, 1.01262012e-041, 4.87982943e-021,\n",
       "        8.11064217e-201, 1.40222646e-002, 9.85977735e-001],\n",
       "       [0.00000000e+000, 2.91812825e-079, 1.66646411e-038,\n",
       "        0.00000000e+000, 3.17827270e-001, 6.82172730e-001],\n",
       "       [0.00000000e+000, 5.71623388e-009, 9.47058337e-001,\n",
       "        9.67282778e-083, 2.49788226e-004, 5.26918689e-002],\n",
       "       [0.00000000e+000, 5.75942249e-032, 2.66176919e-013,\n",
       "        3.26812742e-195, 2.05730457e-003, 9.97942695e-001],\n",
       "       [0.00000000e+000, 2.81128510e-036, 1.87153273e-018,\n",
       "        2.30066695e-179, 6.96270467e-003, 9.93037295e-001],\n",
       "       [9.72950725e-126, 9.99998927e-001, 9.47169024e-007,\n",
       "        1.25397069e-007, 8.76551913e-012, 8.27891266e-015]])"
      ]
     },
     "execution_count": 10,
     "metadata": {},
     "output_type": "execute_result"
    }
   ],
   "source": [
    "model.predict_proba(X_test[:10])"
   ]
  },
  {
   "cell_type": "code",
   "execution_count": 11,
   "id": "63f9a317",
   "metadata": {},
   "outputs": [
    {
     "data": {
      "text/plain": [
       "array([0.90449438, 0.88576779, 0.88576779, 0.86329588, 0.89681051])"
      ]
     },
     "execution_count": 11,
     "metadata": {},
     "output_type": "execute_result"
    }
   ],
   "source": [
    "from sklearn.model_selection import cross_val_score\n",
    "cross_val_score(GaussianNB(),X_train, y_train, cv=5)"
   ]
  },
  {
   "cell_type": "code",
   "execution_count": 12,
   "id": "df8f3b94",
   "metadata": {},
   "outputs": [],
   "source": [
    "pred = model.predict(X_test)"
   ]
  },
  {
   "cell_type": "code",
   "execution_count": 13,
   "id": "632aefb9",
   "metadata": {},
   "outputs": [
    {
     "data": {
      "text/plain": [
       "1145"
      ]
     },
     "execution_count": 13,
     "metadata": {},
     "output_type": "execute_result"
    }
   ],
   "source": [
    "len(X_test)"
   ]
  },
  {
   "cell_type": "code",
   "execution_count": 14,
   "id": "be2b6a44",
   "metadata": {},
   "outputs": [],
   "source": [
    "from sklearn.metrics import classification_report,confusion_matrix\n",
    "from sklearn.model_selection import cross_val_score"
   ]
  },
  {
   "cell_type": "code",
   "execution_count": 15,
   "id": "319dad9f",
   "metadata": {},
   "outputs": [],
   "source": [
    "cm= confusion_matrix(y_test,pred)"
   ]
  },
  {
   "cell_type": "code",
   "execution_count": 16,
   "id": "a131523a",
   "metadata": {},
   "outputs": [
    {
     "data": {
      "text/plain": [
       "Text(42.0, 0.5, 'actual')"
      ]
     },
     "execution_count": 16,
     "metadata": {},
     "output_type": "execute_result"
    },
    {
     "data": {
      "image/png": "[encoded data removed]",
      "text/plain": [
       "<Figure size 504x360 with 2 Axes>"
      ]
     },
     "metadata": {
      "needs_background": "light"
     },
     "output_type": "display_data"
    }
   ],
   "source": [
    "%matplotlib inline\n",
    "import matplotlib.pyplot as plt\n",
    "import seaborn as sn\n",
    "plt.figure(figsize=(7,5))\n",
    "sn.heatmap(cm, annot=True)\n",
    "plt.xlabel('Predicted')\n",
    "plt.ylabel('actual')"
   ]
  },
  {
   "cell_type": "code",
   "execution_count": 17,
   "id": "d95f9f55",
   "metadata": {},
   "outputs": [
    {
     "name": "stdout",
     "output_type": "stream",
     "text": [
      "              precision    recall  f1-score   support\n",
      "\n",
      "        Good       0.80      0.92      0.86        13\n",
      "    Moderate       0.96      0.83      0.89       237\n",
      "        Poor       0.71      0.89      0.79       159\n",
      "Satisfactory       0.82      0.95      0.88       112\n",
      "      Severe       0.90      0.85      0.88       144\n",
      "   Very Poor       0.93      0.89      0.91       480\n",
      "\n",
      "    accuracy                           0.88      1145\n",
      "   macro avg       0.85      0.89      0.87      1145\n",
      "weighted avg       0.89      0.88      0.88      1145\n",
      "\n"
     ]
    }
   ],
   "source": [
    "print(classification_report(y_test,pred))"
   ]
  },
  {
   "cell_type": "code",
   "execution_count": null,
   "id": "73173248",
   "metadata": {},
   "outputs": [],
   "source": []
  }
 ],
 "metadata": {
  "kernelspec": {
   "display_name": "Python 3 (ipykernel)",
   "language": "python",
   "name": "python3"
  },
  "language_info": {
   "codemirror_mode": {
    "name": "ipython",
    "version": 3
   },
   "file_extension": ".py",
   "mimetype": "text/x-python",
   "name": "python",
   "nbconvert_exporter": "python",
   "pygments_lexer": "ipython3",
   "version": "3.10.4"
  }
 },
 "nbformat": 4,
 "nbformat_minor": 5
}
